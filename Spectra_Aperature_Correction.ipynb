{
 "cells": [
  {
   "cell_type": "code",
   "execution_count": 8,
   "metadata": {},
   "outputs": [],
   "source": [
    "import warnings\n",
    "from astropy.modeling import models\n",
    "from astropy import units as u\n",
    "from scipy.signal import find_peaks, peak_widths\n",
    "#from specutils import Spectrum1D, SpectralRegion\n",
    "#from specutils.fitting import fit_lines\n",
    "#from specutils.fitting import fit_continuum\n",
    "#from specutils.analysis import gaussian_sigma_width, gaussian_fwhm, fwhm, fwzi, equivalent_width\n",
    "import random\n",
    "\n",
    "from astropy.io import ascii, fits\n",
    "\n",
    "from  matplotlib import pyplot as plt\n",
    "\n",
    "import numpy as np\n",
    "#import extinction\n",
    "#from extinction import ccm89, apply, remove, calzetti00\n",
    "import numpy as np\n",
    "#import pyneb as pn\n",
    "from astropy.io import ascii, fits\n",
    "\n",
    "import pandas\n",
    "\n",
    "import scipy\n",
    "\n",
    "from astropy.table import Table\n",
    "from scipy import integrate\n",
    " \n",
    "#import extinction\n",
    "#from extinction import ccm89, apply, remove\n",
    "\n",
    "from  matplotlib import pyplot as plt\n",
    "#import pyneb as pn\n",
    "from astropy.io import ascii, fits\n",
    "#from specutils import Spectrum1D\n",
    "import astropy.units as u\n",
    "#from specutils.manipulation import box_smooth, gaussian_smooth, trapezoid_smooth\n",
    "#from specutils.analysis import line_flux\n",
    "#from specutils.analysis import equivalent_width"
   ]
  },
  {
   "cell_type": "code",
   "execution_count": 14,
   "metadata": {},
   "outputs": [],
   "source": [
    "f=open('filters/JWST_NIRCam.F090W.dat',\"r\")\n",
    "lines=f.readlines()[1:]\n",
    "one=[]\n",
    "two=[]\n",
    "\n",
    "\n",
    "\n",
    "for i in lines:\n",
    "    one.append(i.split()[0])\n",
    "    two.append(i.split()[1])\n",
    "\n",
    "    \n",
    "    \n",
    "\n",
    "\n",
    "F090Wwave_trans=np.asarray(one, dtype=float)\n",
    "F090Wflux_trans=np.asarray(two, dtype=float)\n",
    "F090Wwave_trans=F090Wwave_trans*10000\n",
    "\n",
    "\n",
    "\n",
    "\n",
    "\n",
    "f=open('filters/JWST_NIRCam.F115W.dat',\"r\")\n",
    "lines=f.readlines()[1:]\n",
    "one=[]\n",
    "two=[]\n",
    "\n",
    "\n",
    "\n",
    "for i in lines:\n",
    "    one.append(i.split()[0])\n",
    "    two.append(i.split()[1])\n",
    "\n",
    "    \n",
    "    \n",
    "\n",
    "\n",
    "F115Wwave_trans=np.asarray(one, dtype=float)\n",
    "F115Wflux_trans=np.asarray(two, dtype=float)\n",
    "F115Wwave_trans=F115Wwave_trans*10000\n",
    "\n",
    "\n",
    "\n",
    "f=open('filters/JWST_NIRCam.F150W.dat',\"r\")\n",
    "lines=f.readlines()[1:]\n",
    "one=[]\n",
    "two=[]\n",
    "\n",
    "\n",
    "\n",
    "for i in lines:\n",
    "    one.append(i.split()[0])\n",
    "    two.append(i.split()[1])\n",
    "\n",
    "    \n",
    "    \n",
    "\n",
    "\n",
    "F150Wwave_trans=np.asarray(one, dtype=float)\n",
    "F150Wflux_trans=np.asarray(two, dtype=float)\n",
    "F150Wwave_trans=F150Wwave_trans*10000\n",
    "\n",
    "\n",
    "f=open('filters/JWST_NIRCam.F200W.dat',\"r\")\n",
    "lines=f.readlines()[1:]\n",
    "one=[]\n",
    "two=[]\n",
    "\n",
    "\n",
    "\n",
    "for i in lines:\n",
    "    one.append(i.split()[0])\n",
    "    two.append(i.split()[1])\n",
    "\n",
    "    \n",
    "    \n",
    "\n",
    "\n",
    "F200Wwave_trans=np.asarray(one, dtype=float)\n",
    "F200Wflux_trans=np.asarray(two, dtype=float)\n",
    "F200Wwave_trans=F200Wwave_trans*10000\n",
    "\n",
    "f=open('filters/JWST_NIRCam.F277W.dat',\"r\")\n",
    "lines=f.readlines()[1:]\n",
    "one=[]\n",
    "two=[]\n",
    "\n",
    "\n",
    "\n",
    "for i in lines:\n",
    "    one.append(i.split()[0])\n",
    "    two.append(i.split()[1])\n",
    "\n",
    "    \n",
    "    \n",
    "\n",
    "\n",
    "F277Wwave_trans=np.asarray(one, dtype=float)\n",
    "F277Wflux_trans=np.asarray(two, dtype=float)\n",
    "F277Wwave_trans=F277Wwave_trans*10000\n",
    "\n",
    "\n",
    "f=open('filters/JWST_NIRCam.F356W.dat',\"r\")\n",
    "lines=f.readlines()[1:]\n",
    "one=[]\n",
    "two=[]\n",
    "\n",
    "\n",
    "\n",
    "for i in lines:\n",
    "    one.append(i.split()[0])\n",
    "    two.append(i.split()[1])\n",
    "\n",
    "    \n",
    "    \n",
    "\n",
    "\n",
    "F356Wwave_trans=np.asarray(one, dtype=float)\n",
    "F356Wflux_trans=np.asarray(two, dtype=float)\n",
    "F356Wwave_trans=F356Wwave_trans*10000\n",
    "\n",
    "\n",
    "f=open('filters/JWST_NIRCam.F444W.dat',\"r\")\n",
    "lines=f.readlines()[1:]\n",
    "one=[]\n",
    "two=[]\n",
    "\n",
    "\n",
    "\n",
    "for i in lines:\n",
    "    one.append(i.split()[0])\n",
    "    two.append(i.split()[1])\n",
    "\n",
    "    \n",
    "    \n",
    "\n",
    "\n",
    "F444Wwave_trans=np.asarray(one, dtype=float)\n",
    "F444Wflux_trans=np.asarray(two, dtype=float)\n",
    "F444Wwave_trans=F444Wwave_trans*10000\n",
    "\n",
    "\n",
    "\n",
    "f=open('filters/JWST_NIRCam.F410M.dat',\"r\")\n",
    "lines=f.readlines()[1:]\n",
    "one=[]\n",
    "two=[]\n",
    "\n",
    "\n",
    "\n",
    "for i in lines:\n",
    "    one.append(i.split()[0])\n",
    "    two.append(i.split()[1])\n",
    "\n",
    "    \n",
    "    \n",
    "\n",
    "\n",
    "F410Mwave_trans=np.asarray(one, dtype=float)\n",
    "F410Mflux_trans=np.asarray(two, dtype=float)\n",
    "F410Mwave_trans=F410Mwave_trans*10000\n",
    "\n",
    "\n",
    "\n",
    "f=open('/Users/neelsharma/Desktop/ASTRProjects/NIRSpec/wenlei_spec_4446_v3.0/l3c_4446001001_03101_s00046_00969_x1d_optimal_flam.dat',\"r\")\n",
    "lines=f.readlines()\n",
    "one=[]\n",
    "two=[]\n",
    "three=[]\n",
    "\n",
    "\n",
    "for i in lines:\n",
    "    #print(i)\n",
    "    one.append(i.split()[0])\n",
    "    two.append(i.split()[1])\n",
    "    three.append(i.split()[2])\n",
    "    \n",
    "    \n",
    "\n",
    "\n",
    "wave1=np.asarray(one, dtype=float)\n",
    "flux1=np.asarray(two, dtype=float)\n",
    "flux_err1=np.asarray(three, dtype=float)\n",
    "\n",
    "flux1=flux1*(10**(-17))\n",
    "flux_err1=flux_err1*(10**(-17))\n",
    "\n",
    "\n",
    "f=open('/Users/neelsharma/Desktop/ASTRProjects/NIRSpec/wenlei_spec_4446_v3.0/l3c_4446001001_03101_s00046_00969_x1d_optimal_flam.dat',\"r\")\n",
    "lines=f.readlines()\n",
    "one=[]\n",
    "two=[]\n",
    "three=[]\n",
    "\n",
    "\n",
    "for i in lines:\n",
    "    one.append(i.split()[0])\n",
    "    two.append(i.split()[1])\n",
    "    three.append(i.split()[2])\n",
    "    \n",
    "    \n",
    "\n",
    "\n",
    "wave3=np.asarray(one, dtype=float)\n",
    "flux3=np.asarray(two, dtype=float)\n",
    "flux_err3=np.asarray(three, dtype=float)\n",
    "\n",
    "flux3=flux3*(10**(-17))\n",
    "flux_err3=flux_err3*(10**(-17))\n",
    "\n",
    "\n",
    "\n",
    "f=open('/Users/neelsharma/Desktop/ASTRProjects/NIRSpec/wenlei_spec_4446_v3.0/l3c_4446001001_03105_s00337_00337_x1d_optimal_flam.dat',\"r\")\n",
    "lines=f.readlines()\n",
    "one=[]\n",
    "two=[]\n",
    "three=[]\n",
    "\n",
    "\n",
    "for i in lines:\n",
    "    one.append(i.split()[0])\n",
    "    two.append(i.split()[1])\n",
    "    three.append(i.split()[2])\n",
    "    \n",
    "    \n",
    "\n",
    "\n",
    "waveP=np.asarray(one, dtype=float)\n",
    "fluxP=np.asarray(two, dtype=float)\n",
    "flux_errP=np.asarray(three, dtype=float)\n",
    "\n",
    "fluxP=fluxP*(10**(-17))\n",
    "flux_errP=flux_errP*(10**(-17))\n",
    "\n",
    "\n",
    "\n",
    "# Arc 2C -- to be verified\n",
    "f=open('/Users/neelsharma/Desktop/ASTRProjects/NIRSpec/wenlei_spec_4446_v3.0/l3c_4446001001_03105_s00002_00007_x1d_optimal_flam.dat',\"r\")\n",
    "lines=f.readlines()\n",
    "one=[]\n",
    "two=[]\n",
    "three=[]\n",
    "\n",
    "\n",
    "for i in lines:\n",
    "    one.append(i.split()[0])\n",
    "    two.append(i.split()[1])\n",
    "    three.append(i.split()[2])\n",
    "    \n",
    "    \n",
    "\n",
    "\n",
    "waveP2=np.asarray(one, dtype=float)\n",
    "fluxP2=np.asarray(two, dtype=float)\n",
    "flux_errP2=np.asarray(three, dtype=float)\n",
    "\n",
    "fluxP2=fluxP2*(10**(-17))\n",
    "flux_errP2=flux_errP2*(10**(-17))\n",
    "\n",
    "\n",
    "\n",
    "f=open('/Users/neelsharma/Desktop/ASTRProjects/NIRSpec/wenlei_spec_4446_v3.0/l3c_4446001001_03101_s00046_00046_x1d_optimal_flam.dat',\"r\")\n",
    "lines=f.readlines()\n",
    "one=[]\n",
    "two=[]\n",
    "three=[]\n",
    "\n",
    "\n",
    "for i in lines:\n",
    "    one.append(i.split()[0])\n",
    "    two.append(i.split()[1])\n",
    "    three.append(i.split()[2])\n",
    "    \n",
    "    \n",
    "\n",
    "\n",
    "wavePc=np.asarray(one, dtype=float)\n",
    "fluxPc=np.asarray(two, dtype=float)\n",
    "flux_errPc=np.asarray(three, dtype=float)\n",
    "\n",
    "fluxPc=fluxPc*(10**(-17))\n",
    "flux_errPc=flux_errPc*(10**(-17))\n",
    "\n",
    "\n",
    "\n",
    "f=open('/Users/neelsharma/Desktop/ASTRProjects/NIRSpec/wenlei_spec_4446_v3.0/l3c_4446001001_03103_s00046_00046_x1d_optimal_flam.dat',\"r\")\n",
    "lines=f.readlines()\n",
    "one=[]\n",
    "two=[]\n",
    "three=[]\n",
    "\n",
    "\n",
    "for i in lines:\n",
    "    one.append(i.split()[0])\n",
    "    two.append(i.split()[1])\n",
    "    three.append(i.split()[2])\n",
    "    \n",
    "    \n",
    "\n",
    "\n",
    "wavePc2=np.asarray(one, dtype=float)\n",
    "fluxPc2=np.asarray(two, dtype=float)\n",
    "flux_errPc2=np.asarray(three, dtype=float)\n",
    "\n",
    "fluxPc2=fluxPc2*(10**(-17))\n",
    "flux_errPc2=flux_errPc2*(10**(-17))\n",
    "\n",
    "\n",
    "\n",
    "\n"
   ]
  },
  {
   "cell_type": "code",
   "execution_count": 15,
   "metadata": {},
   "outputs": [],
   "source": [
    "flux_nu=[]\n",
    "c=3e10\n",
    "for i in range(0,len(fluxP)):\n",
    "    \n",
    "    flux_nu.append(fluxP[i]*(waveP[i]**2)*c)"
   ]
  },
  {
   "cell_type": "code",
   "execution_count": 20,
   "metadata": {},
   "outputs": [
    {
     "data": {
      "text/plain": [
       "(-1.0, 2.0)"
      ]
     },
     "execution_count": 20,
     "metadata": {},
     "output_type": "execute_result"
    },
    {
     "data": {
      "image/png": "[encoded data removed]",
      "text/plain": [
       "<Figure size 2400x1200 with 1 Axes>"
      ]
     },
     "metadata": {},
     "output_type": "display_data"
    }
   ],
   "source": [
    "fig = plt.figure(figsize=(24,12))\n",
    "plt.plot(F150Wwave_trans,F150Wflux_trans)\n",
    "plt.plot(F200Wwave_trans,F200Wflux_trans)\n",
    "plt.plot(F115Wwave_trans,F115Wflux_trans)\n",
    "plt.plot(F277Wwave_trans,F277Wflux_trans)\n",
    "plt.plot(F090Wwave_trans,F090Wflux_trans)\n",
    "plt.plot(F356Wwave_trans,F356Wflux_trans)\n",
    "plt.plot(F444Wwave_trans,F444Wflux_trans)\n",
    "plt.plot(F410Mwave_trans,F410Mflux_trans)\n",
    "\n",
    "plt.plot(wave3,flux3*10e18)\n",
    "plt.plot(wave1,flux1*10e18)\n",
    "\n",
    "#plt.plot(wave3,flux3*10e18)\n",
    "#plt.plot(waveP,(fluxP+np.mean(fluxP))*10e18)\n",
    "plt.plot(waveP,(fluxP)*10e18)\n",
    "plt.plot(waveP2,(fluxP2)*10e18)\n",
    "#plt.plot(wavePc,(fluxPc)*15e18)\n",
    "#plt.plot(wavePc2,(fluxPc2)*15e18)\n",
    "#plt.plot(waveP,(flux_nu))\n",
    "plt.grid()\n",
    "plt.ylim([-1,2])"
   ]
  },
  {
   "cell_type": "code",
   "execution_count": 21,
   "metadata": {},
   "outputs": [
    {
     "data": {
      "text/plain": [
       "2.4872629353233833e-19"
      ]
     },
     "execution_count": 21,
     "metadata": {},
     "output_type": "execute_result"
    }
   ],
   "source": [
    "np.mean(fluxP)"
   ]
  },
  {
   "cell_type": "code",
   "execution_count": 22,
   "metadata": {},
   "outputs": [],
   "source": [
    "def find_nearest(array, value):\n",
    "    array = np.asarray(array)\n",
    "    idx = (np.abs(array - value)).argmin()\n",
    "    return idx"
   ]
  },
  {
   "cell_type": "code",
   "execution_count": 23,
   "metadata": {
    "scrolled": true
   },
   "outputs": [
    {
     "ename": "NameError",
     "evalue": "name 'wave_trans' is not defined",
     "output_type": "error",
     "traceback": [
      "\u001b[0;31m---------------------------------------------------------------------------\u001b[0m",
      "\u001b[0;31mNameError\u001b[0m                                 Traceback (most recent call last)",
      "\u001b[0;32m<ipython-input-23-8f14fc38e3e6>\u001b[0m in \u001b[0;36m<module>\u001b[0;34m\u001b[0m\n\u001b[1;32m      5\u001b[0m \u001b[0mtrans_lamda\u001b[0m\u001b[0;34m=\u001b[0m\u001b[0;34m[\u001b[0m\u001b[0;34m]\u001b[0m\u001b[0;34m\u001b[0m\u001b[0;34m\u001b[0m\u001b[0m\n\u001b[1;32m      6\u001b[0m \u001b[0;34m\u001b[0m\u001b[0m\n\u001b[0;32m----> 7\u001b[0;31m \u001b[0;32mfor\u001b[0m \u001b[0mi\u001b[0m \u001b[0;32min\u001b[0m \u001b[0mrange\u001b[0m\u001b[0;34m(\u001b[0m\u001b[0mfind_nearest\u001b[0m\u001b[0;34m(\u001b[0m\u001b[0mwave1\u001b[0m\u001b[0;34m,\u001b[0m \u001b[0mwave_trans\u001b[0m\u001b[0;34m[\u001b[0m\u001b[0;36m0\u001b[0m\u001b[0;34m]\u001b[0m\u001b[0;34m)\u001b[0m\u001b[0;34m,\u001b[0m\u001b[0mfind_nearest\u001b[0m\u001b[0;34m(\u001b[0m\u001b[0mwave1\u001b[0m\u001b[0;34m,\u001b[0m \u001b[0mwave_trans\u001b[0m\u001b[0;34m[\u001b[0m\u001b[0mlen\u001b[0m\u001b[0;34m(\u001b[0m\u001b[0mwave_trans\u001b[0m\u001b[0;34m)\u001b[0m\u001b[0;34m-\u001b[0m\u001b[0;36m1\u001b[0m\u001b[0;34m]\u001b[0m\u001b[0;34m)\u001b[0m\u001b[0;34m)\u001b[0m\u001b[0;34m:\u001b[0m\u001b[0;34m\u001b[0m\u001b[0;34m\u001b[0m\u001b[0m\n\u001b[0m\u001b[1;32m      8\u001b[0m     \u001b[0mflux1\u001b[0m\u001b[0;34m[\u001b[0m\u001b[0mi\u001b[0m\u001b[0;34m]\u001b[0m\u001b[0;34m*\u001b[0m\u001b[0mflux_trans\u001b[0m\u001b[0;34m[\u001b[0m\u001b[0mfind_nearest\u001b[0m\u001b[0;34m(\u001b[0m\u001b[0mwave_trans\u001b[0m\u001b[0;34m,\u001b[0m \u001b[0mwave1\u001b[0m\u001b[0;34m[\u001b[0m\u001b[0mi\u001b[0m\u001b[0;34m]\u001b[0m\u001b[0;34m)\u001b[0m\u001b[0;34m]\u001b[0m\u001b[0;34m\u001b[0m\u001b[0;34m\u001b[0m\u001b[0m\n\u001b[1;32m      9\u001b[0m     \u001b[0;31m#print(i)\u001b[0m\u001b[0;34m\u001b[0m\u001b[0;34m\u001b[0m\u001b[0;34m\u001b[0m\u001b[0m\n",
      "\u001b[0;31mNameError\u001b[0m: name 'wave_trans' is not defined"
     ]
    }
   ],
   "source": [
    "\n",
    "flux1_trans_corr=[]\n",
    "wave1_trans_corr=[]\n",
    "\n",
    "flux1_trans_corr_lamda=[]\n",
    "trans_lamda=[]\n",
    "\n",
    "for i in range(find_nearest(wave1, wave_trans[0]),find_nearest(wave1, wave_trans[len(wave_trans)-1])):\n",
    "    flux1[i]*flux_trans[find_nearest(wave_trans, wave1[i])]\n",
    "    #print(i)\n",
    "    flux1_trans_corr.append(flux1[i]*flux_trans[find_nearest(wave_trans, wave1[i])])\n",
    "    wave1_trans_corr.append(wave1[i])\n",
    "    \n",
    "    flux1_trans_corr_lamda.append(     (flux1[i]*flux_trans[find_nearest(wave_trans, wave1[i])])*wave1[i]      )\n",
    "    trans_lamda.append(     flux_trans[find_nearest(wave_trans, wave1[i])]*wave1[i]                    )\n",
    "    \n",
    "    \n",
    "    \n",
    "    print(flux1[i],flux_trans[find_nearest(wave_trans, wave1[i])])"
   ]
  },
  {
   "cell_type": "code",
   "execution_count": 32,
   "metadata": {},
   "outputs": [
    {
     "data": {
      "text/plain": [
       "(21.22537388451098, 2.1143612755818378e-19)"
      ]
     },
     "execution_count": 32,
     "metadata": {},
     "output_type": "execute_result"
    }
   ],
   "source": [
    "spec_wave=waveP\n",
    "spec_flux=fluxP\n",
    "trans_wave=F410Mwave_trans\n",
    "trans_flux=F410Mflux_trans\n",
    "\n",
    "Lam_piv=0.901*10000\n",
    "\n",
    "Lam_piv=1.501*10000\n",
    "\n",
    "#Lam_piv=1.15*10000\n",
    "\n",
    "Lam_piv=1.99*10000\n",
    "\n",
    "Lam_piv=2.786*10000\n",
    "\n",
    "Lam_piv=3.563*10000\n",
    "\n",
    "Lam_piv=4.421*10000\n",
    "Lam_piv=4.092*10000\n",
    "\n",
    "flux1_trans_corr=[]\n",
    "wave1_trans_corr=[]\n",
    "\n",
    "flux1_trans_corr_lamda=[]\n",
    "trans_lamda=[]\n",
    "\n",
    "\n",
    "\n",
    "for i in range(find_nearest(spec_wave, trans_wave[0]),find_nearest(spec_wave, trans_wave[len(trans_wave)-1])):\n",
    "    spec_flux[i]*trans_flux[find_nearest(trans_wave, spec_wave[i])]\n",
    "    #print(i)\n",
    "    flux1_trans_corr.append(spec_flux[i]*trans_flux[find_nearest(trans_wave, spec_wave[i])])\n",
    "    wave1_trans_corr.append(wave1[i])\n",
    "    \n",
    "    flux1_trans_corr_lamda.append(     (spec_flux[i]*trans_flux[find_nearest(trans_wave, spec_wave[i])])*spec_wave[i]      )\n",
    "    trans_lamda.append(     trans_flux[find_nearest(trans_wave, spec_wave[i])]*spec_wave[i]                    )\n",
    "    \n",
    "    \n",
    "Flam=scipy.integrate.trapz(flux1_trans_corr_lamda, wave1_trans_corr)/scipy.integrate.trapz(trans_lamda, wave1_trans_corr)    \n",
    "\n",
    "Fnu=(3.34*10e-19)*(Lam_piv**2)*Flam\n",
    "\n",
    "mAB=-2.5*np.log10(Fnu)-48.6\n",
    "\n",
    "\n",
    "mAB=-2.5*np.log10(Flam)-2.402-5*np.log10(Lam_piv)\n",
    "#mAB=-2.5*np.log10(Flam)-21.1\n",
    "mAB, Flam"
   ]
  },
  {
   "cell_type": "code",
   "execution_count": 30,
   "metadata": {},
   "outputs": [
    {
     "data": {
      "text/plain": [
       "-38.18265197796049"
      ]
     },
     "execution_count": 30,
     "metadata": {},
     "output_type": "execute_result"
    }
   ],
   "source": [
    "#FNU\n",
    "\n",
    "\n",
    "spec_wave=waveP2\n",
    "spec_flux=fluxP2\n",
    "trans_wave=F444Wwave_trans\n",
    "trans_flux=F444Wflux_trans\n",
    "\n",
    "Lam_piv=0.901*10000\n",
    "\n",
    "Lam_piv=1.501*10000\n",
    "\n",
    "#Lam_piv=1.15*10000\n",
    "\n",
    "#Lam_piv=1.99*10000\n",
    "\n",
    "#Lam_piv=2.786*10000\n",
    "\n",
    "Lam_piv=3.563*10000\n",
    "\n",
    "Lam_piv=4.421*10000\n",
    "\n",
    "#Lam_piv=4.092*10000\n",
    "\n",
    "flux1_trans_corr=[]\n",
    "wave1_trans_corr=[]\n",
    "\n",
    "flux1_trans_corr_lamda=[]\n",
    "trans_lamda=[]\n",
    "\n",
    "c=3e10\n",
    "\n",
    "for i in range(find_nearest(spec_wave, trans_wave[0]),find_nearest(spec_wave, trans_wave[len(trans_wave)-1])):\n",
    "    spec_flux[i]*trans_flux[find_nearest(trans_wave, spec_wave[i])]\n",
    "    #print(i)\n",
    "\n",
    "    \n",
    "    \n",
    "    flux1_trans_corr_lamda.append(     (    (  spec_flux[i]*(spec_wave[i]**2)*(3.34e4)    )     *trans_flux[find_nearest(trans_wave, spec_wave[i])])/(c/(spec_wave[i]*1e-8))     )\n",
    "    trans_lamda.append(     trans_flux[find_nearest(trans_wave, spec_wave[i])]/(c/(spec_wave[i]*1e-8))                     )\n",
    "    \n",
    "    \n",
    "#Flam=scipy.integrate.trapz(flux1_trans_corr_lamda, wave1_trans_corr)/scipy.integrate.trapz(trans_lamda, wave1_trans_corr)    \n",
    "Flam=sum(flux1_trans_corr_lamda)/sum(trans_lamda)\n",
    "\\\n",
    "\n",
    "\n",
    "\n",
    "\n",
    "\n",
    "mAB=-2.5*np.log10(Flam)-48.6\n",
    "\n",
    "\n",
    "#mAB=-2.5*np.log10(Flam)-2.402-5*np.log10(Lam_piv)\n",
    "#mAB=-2.5*np.log10(Flam)-21.1\n",
    "mAB"
   ]
  },
  {
   "cell_type": "code",
   "execution_count": null,
   "metadata": {},
   "outputs": [],
   "source": [
    "\n",
    "\n",
    "\n",
    "AB=-2.5*alog10(int(F_nu*trans/nu dnu)/int(trans/nu dnu))-48.6\n",
    "\n",
    "The trick in this equation is that nu=(3.e10)/(wave*1e-8) for wavelength in Angstroms"
   ]
  },
  {
   "cell_type": "code",
   "execution_count": 177,
   "metadata": {},
   "outputs": [
    {
     "data": {
      "text/plain": [
       "22.36386127105785"
      ]
     },
     "execution_count": 177,
     "metadata": {},
     "output_type": "execute_result"
    }
   ],
   "source": [
    "mST=-2.5*np.log10(Flam)-21.1\n",
    "mST"
   ]
  },
  {
   "cell_type": "code",
   "execution_count": 178,
   "metadata": {},
   "outputs": [
    {
     "data": {
      "text/plain": [
       "19.561695889009318"
      ]
     },
     "execution_count": 178,
     "metadata": {},
     "output_type": "execute_result"
    }
   ],
   "source": [
    "mST-5*np.log10(Lam_piv)+18.6921"
   ]
  },
  {
   "cell_type": "code",
   "execution_count": 136,
   "metadata": {},
   "outputs": [],
   "source": [
    "#2c\n",
    "#Syn\n",
    "mAB_F090W=26.45\n",
    "mAB_F115W=23.87\n",
    "mAB_F150W=22.46\n",
    "mAB_F200W=21.67\n",
    "mAB_F277W=21.08\n",
    "mAB_F356W=20.74\n",
    "mAB_F410M=20.71\n",
    "mAB_F444W=20.65\n",
    "\n",
    "\n",
    "\n",
    "\n",
    "#NIRCam\n",
    "mAB_F090W_Ape=25.11920579\n",
    "mAB_F115W_Ape=22.38595070 \n",
    "mAB_F150W_Ape=21.05028520\n",
    "mAB_F200W_Ape=20.24112994\n",
    "mAB_F277W_Ape=19.57564385\n",
    "mAB_F356W_Ape=19.27074036 \n",
    "mAB_F410M_Ape=19.16120697\n",
    "mAB_F444W_Ape=19.06954729\n",
    "\n",
    "Corr_F090W=3.406572706323862\n",
    "Corr_F115W=3.923012536942523\n",
    "Corr_F150W=3.663413126569001\n",
    "Corr_F200W=3.7286189367231275\n",
    "Corr_F277W=3.997076273599807\n",
    "Corr_F356W=3.869936440516827\n",
    "Corr_F410M=4.164061997592537\n",
    "Corr_F444W=4.287272206074754\n",
    "\n",
    "\n",
    "\n",
    "\n",
    "\n"
   ]
  },
  {
   "cell_type": "code",
   "execution_count": 144,
   "metadata": {},
   "outputs": [
    {
     "data": {
      "text/plain": [
       "(3.8799955280428047, 0.2636710967332115)"
      ]
     },
     "execution_count": 144,
     "metadata": {},
     "output_type": "execute_result"
    }
   ],
   "source": [
    "Corr=Corr_F090W,Corr_F115W,Corr_F150W,Corr_F200W,Corr_F277W,Corr_F356W,Corr_F410M,Corr_F444W\n",
    "\n",
    "np.mean(Corr),np.std(Corr)"
   ]
  },
  {
   "cell_type": "code",
   "execution_count": 147,
   "metadata": {},
   "outputs": [
    {
     "data": {
      "text/plain": [
       "4.164061997592537"
      ]
     },
     "execution_count": 147,
     "metadata": {},
     "output_type": "execute_result"
    }
   ],
   "source": [
    "mag_Syn=mAB_F410M\n",
    "mag=mAB_F410M_Ape\n",
    "\n",
    "\n",
    "Lam_piv=0.901*10000\n",
    "\n",
    "Lam_piv=1.501*10000\n",
    "\n",
    "#Lam_piv=1.15*10000\n",
    "\n",
    "Lam_piv=1.99*10000\n",
    "\n",
    "Lam_piv=2.786*10000\n",
    "\n",
    "Lam_piv=3.563*10000\n",
    "\n",
    "#Lam_piv=4.421*10000\n",
    "\n",
    "Lam_piv=4.092*10000\n",
    "\n",
    "\n",
    "Flam_Syn=(0.109446*np.e**(-0.921034*mag_Syn))/Lam_piv**2\n",
    "Flam=(0.109446*np.e**(-0.921034*mag))/Lam_piv**2\n",
    "\n",
    "Flam/Flam_Syn\n"
   ]
  },
  {
   "cell_type": "code",
   "execution_count": 43,
   "metadata": {},
   "outputs": [],
   "source": [
    "#2a\n",
    "#Syn\n",
    "mAB_F090W=24.83\n",
    "mAB_F115W=22.81\n",
    "mAB_F150W=21.34\n",
    "mAB_F200W=20.53\n",
    "mAB_F277W=19.85\n",
    "mAB_F356W=19.55\n",
    "maB_F410M=19.43\n",
    "mAB_F444W=19.34\n",
    "#NIRCam\n",
    "mAB_F090W_Ape=24.68312544\n",
    "mAB_F115W_Ape=22.49764619 \n",
    "mAB_F150W_Ape=21.13589034\n",
    "mAB_F200W_Ape=20.29894157\n",
    "mAB_F277W_Ape=19.60524615 \n",
    "mAB_F356W_Ape=19.30117861\n",
    "mAB_F410M_Ape=19.17864721\n",
    "mAB_F444W_Ape=19.09207728\n",
    "\n",
    "\n",
    "\n",
    "mAB_F090W_NS337_Syn=25.034\n",
    "mAB_F115W_NS337_Syn=23.4435\n",
    "mAB_F150W_NS337_Syn=22.48734\n",
    "mAB_F200W_NS337_Syn=22.02113\n",
    "mAB_F277W_NS337_Syn=21.53909 \n",
    "mAB_F356W_NS337_Syn=21.3215\n",
    "mAB_F410M_NS337_Syn=21.225\n",
    "mAB_F444W_NS337_Syn=21.119\n",
    "\n",
    "\n",
    "mAB_F090W_NS337=24.60806784\n",
    "mAB_F115W_NS337=23.07000773\n",
    "mAB_F150W_NS337=22.23490463\n",
    "mAB_F200W_NS337=21.77176131 \n",
    "mAB_F277W_NS337=21.32998397 \n",
    "mAB_F356W_NS337= 21.13747477\n",
    "mAB_F410M_NS337=21.04796542\n",
    "mAB_F444W_NS337=20.96955399 \n",
    "\n",
    "\n",
    "\n",
    "Corr_F090W=1.1448532507345983\n",
    "Corr_F115W=1.333341875477706\n",
    "Corr_F150W=1.206823784193523\n",
    "Corr_F200W=1.2371528737075688\n",
    "Corr_F277W=1.2528570929334482\n",
    "Corr_F356W=1.2575595278442475\n",
    "Corr_F410M=1.260494955412231\n",
    "Corr_F444W=1.256519069405604\n",
    "\n",
    "Corr_F090W_NS337=1.48037\n",
    "Corr_F115W_NS337=1.410\n",
    "Corr_F150W_NS337=1.2617\n",
    "Corr_F200W_NS337=1.258\n",
    "Corr_F277W_NS337=1.212\n",
    "Corr_F356W_NS337=1.18470\n",
    "Corr_F410M_NS337=1.177\n",
    "Corr_F444W_NS337=1.14756  "
   ]
  },
  {
   "cell_type": "code",
   "execution_count": 44,
   "metadata": {},
   "outputs": [
    {
     "data": {
      "text/plain": [
       "(1.243700303713616, 0.04991418105663524)"
      ]
     },
     "execution_count": 44,
     "metadata": {},
     "output_type": "execute_result"
    }
   ],
   "source": [
    "_NS337Corr=Corr_F090W_NS337,Corr_F115W_NS337,Corr_F150W_NS337,Corr_F200W_NS337,Corr_F277W_NS337,Corr_F356W_NS337,Corr_F410M_NS337,Corr_F444W_NS337\n",
    "\n",
    "np.mean(Corr),np.std(Corr)"
   ]
  },
  {
   "cell_type": "code",
   "execution_count": 42,
   "metadata": {},
   "outputs": [
    {
     "data": {
      "text/plain": [
       "1.1771012723509378"
      ]
     },
     "execution_count": 42,
     "metadata": {},
     "output_type": "execute_result"
    }
   ],
   "source": [
    "mag_Syn=mAB_F410M_NS337_Syn\n",
    "mag=mAB_F410M_NS337\n",
    "\n",
    "\n",
    "Lam_piv=0.901*10000\n",
    "\n",
    "Lam_piv=1.501*10000\n",
    "\n",
    "#Lam_piv=1.15*10000\n",
    "\n",
    "Lam_piv=1.99*10000\n",
    "\n",
    "Lam_piv=2.786*10000\n",
    "\n",
    "Lam_piv=3.563*10000\n",
    "\n",
    "Lam_piv=4.421*10000\n",
    "\n",
    "#Lam_piv=4.092*10000\n",
    "\n",
    "\n",
    "Flam_Syn=(0.109446*np.e**(-0.921034*mag_Syn))/Lam_piv**2\n",
    "Flam=(0.109446*np.e**(-0.921034*mag))/Lam_piv**2\n",
    "\n",
    "Flam/Flam_Syn\n"
   ]
  },
  {
   "cell_type": "code",
   "execution_count": null,
   "metadata": {},
   "outputs": [],
   "source": [
    "#2a 3853 24.68312544 0.07090901 22.49764619 0.01037747 21.13589034 0.00281608 20.29894157 0.00126707 19.60524615 0.00061283 19.30117861 0.00066641 19.17864721 0.00073834 19.09207728 0.00036259\n",
    "\n",
    "#2c 3856 25.11920579 0.09871233 22.38595070 0.00893117 21.05028520 0.00248068 20.24112994 0.00114901 19.57564385 0.00057597 19.27074036 0.00062179 19.16120697 0.00069479 19.06954729 0.00034057\n",
    "\n",
    "#9c 3851 26.85353113 0.11672326 26.52741288 0.09310918 26.32587543 0.07617181 26.03283005 0.05941581 25.99269589 0.04267224 25.94224131 0.05147381 26.01910907 0.06111080 25.71391527 0.02649103\n",
    "\n",
    "#1a? 3880 21.91635862 0.00962679 21.71717841 0.00928200 21.55288600 0.00881995 21.42072736 0.00851894 21.59189024 0.00813671 22.04524347 0.00898983 22.25662994 0.01018324 22.25623235 0.00610907\n",
    "\n",
    "#1a? 3951 24.79168523 0.08022863 24.49681174 0.07330466 24.57457180 0.07861400 24.46080907 0.07272947 24.49071007 0.06665176 24.95964419 0.07855234 25.16387985 0.09358837 25.09173152 0.04689063\n",
    "\n",
    "#NS337 3479 24.60806784 0.03363779 23.07000773 0.00898142 22.23490463 0.00408087 21.77176131 0.00260244 21.32998397 0.00151268 21.13747477 0.00170118 21.04796542 0.00189606 20.96955399 0.00087222"
   ]
  },
  {
   "cell_type": "code",
   "execution_count": 55,
   "metadata": {},
   "outputs": [
    {
     "data": {
      "text/plain": [
       "3.648803067705699e-18"
      ]
     },
     "execution_count": 55,
     "metadata": {},
     "output_type": "execute_result"
    }
   ],
   "source": [
    "f=scipy.integrate.trapz(flux1_trans_corr, wave1_trans_corr)\n",
    "f=scipy.integrate.trapz(flux1_trans_corr_lamda, wave1_trans_corr)/scipy.integrate.trapz(trans_lamda, wave1_trans_corr)\n",
    "f"
   ]
  },
  {
   "cell_type": "code",
   "execution_count": null,
   "metadata": {},
   "outputs": [],
   "source": []
  },
  {
   "cell_type": "code",
   "execution_count": 56,
   "metadata": {},
   "outputs": [
    {
     "data": {
      "text/plain": [
       "3.650684743648667e-18"
      ]
     },
     "execution_count": 56,
     "metadata": {},
     "output_type": "execute_result"
    }
   ],
   "source": [
    "sum(flux1_trans_corr_lamda)/sum(trans_lamda)"
   ]
  },
  {
   "cell_type": "code",
   "execution_count": 57,
   "metadata": {},
   "outputs": [
    {
     "data": {
      "text/plain": [
       "107.4946895613745"
      ]
     },
     "execution_count": 57,
     "metadata": {},
     "output_type": "execute_result"
    }
   ],
   "source": [
    "-2.5*np.log10(f/3631*10e-23)"
   ]
  },
  {
   "cell_type": "code",
   "execution_count": 58,
   "metadata": {},
   "outputs": [
    {
     "data": {
      "text/plain": [
       "5.435575669700448"
      ]
     },
     "execution_count": 58,
     "metadata": {},
     "output_type": "execute_result"
    }
   ],
   "source": [
    "-2.5*np.log10(f/Lam_piv)-48.6"
   ]
  },
  {
   "cell_type": "code",
   "execution_count": 59,
   "metadata": {},
   "outputs": [],
   "source": [
    "Lam_piv=1.501*10000"
   ]
  },
  {
   "cell_type": "code",
   "execution_count": 60,
   "metadata": {},
   "outputs": [
    {
     "data": {
      "text/plain": [
       "20.31072047787592"
      ]
     },
     "execution_count": 60,
     "metadata": {},
     "output_type": "execute_result"
    }
   ],
   "source": [
    "-2.5*np.log10(Flam)-2.402-5*np.log10(Lam_piv)"
   ]
  },
  {
   "cell_type": "code",
   "execution_count": null,
   "metadata": {},
   "outputs": [],
   "source": [
    "2.5*np.log10(Lam_piv)"
   ]
  },
  {
   "cell_type": "code",
   "execution_count": null,
   "metadata": {},
   "outputs": [],
   "source": [
    "ABmag = - 2.5 log Fnu - 48.6."
   ]
  },
  {
   "cell_type": "code",
   "execution_count": null,
   "metadata": {},
   "outputs": [],
   "source": [
    "-2.5*np.log10(f)-48.6"
   ]
  },
  {
   "cell_type": "code",
   "execution_count": null,
   "metadata": {},
   "outputs": [],
   "source": [
    "3.34x 10-19 A2F,\\"
   ]
  },
  {
   "cell_type": "code",
   "execution_count": null,
   "metadata": {},
   "outputs": [],
   "source": [
    "-2.5*np.log10(Fnu)- 48.6"
   ]
  },
  {
   "cell_type": "code",
   "execution_count": 51,
   "metadata": {},
   "outputs": [
    {
     "ename": "TypeError",
     "evalue": "unsupported operand type(s) for *: 'float' and '_io.TextIOWrapper'",
     "output_type": "error",
     "traceback": [
      "\u001b[0;31m---------------------------------------------------------------------------\u001b[0m",
      "\u001b[0;31mTypeError\u001b[0m                                 Traceback (most recent call last)",
      "\u001b[0;32m<ipython-input-51-4c1812ea4ee3>\u001b[0m in \u001b[0;36m<module>\u001b[0;34m\u001b[0m\n\u001b[0;32m----> 1\u001b[0;31m \u001b[0;34m(\u001b[0m\u001b[0;36m3.34\u001b[0m\u001b[0;34m*\u001b[0m\u001b[0;36m10e-19\u001b[0m\u001b[0;34m)\u001b[0m\u001b[0;34m*\u001b[0m\u001b[0;34m(\u001b[0m\u001b[0mLam_piv\u001b[0m\u001b[0;34m**\u001b[0m\u001b[0;36m2\u001b[0m\u001b[0;34m)\u001b[0m\u001b[0;34m*\u001b[0m\u001b[0mf\u001b[0m\u001b[0;34m\u001b[0m\u001b[0;34m\u001b[0m\u001b[0m\n\u001b[0m",
      "\u001b[0;31mTypeError\u001b[0m: unsupported operand type(s) for *: 'float' and '_io.TextIOWrapper'"
     ]
    }
   ],
   "source": [
    "(3.34*10e-19)*(Lam_piv**2)*f"
   ]
  },
  {
   "cell_type": "code",
   "execution_count": null,
   "metadata": {},
   "outputs": [],
   "source": [
    " ABmag = - 2.5 log Fnu - 48.6."
   ]
  },
  {
   "cell_type": "code",
   "execution_count": null,
   "metadata": {},
   "outputs": [],
   "source": []
  }
 ],
 "metadata": {
  "kernelspec": {
   "display_name": "Python 3",
   "language": "python",
   "name": "python3"
  },
  "language_info": {
   "codemirror_mode": {
    "name": "ipython",
    "version": 3
   },
   "file_extension": ".py",
   "mimetype": "text/x-python",
   "name": "python",
   "nbconvert_exporter": "python",
   "pygments_lexer": "ipython3",
   "version": "3.10.13"
  }
 },
 "nbformat": 4,
 "nbformat_minor": 4
}
